{
  "nbformat": 4,
  "nbformat_minor": 0,
  "metadata": {
    "colab": {
      "provenance": [],
      "authorship_tag": "ABX9TyP7HL3iH7szpOHjgw7Xvvep",
      "include_colab_link": true
    },
    "kernelspec": {
      "name": "python3",
      "display_name": "Python 3"
    },
    "language_info": {
      "name": "python"
    }
  },
  "cells": [
    {
      "cell_type": "markdown",
      "metadata": {
        "id": "view-in-github",
        "colab_type": "text"
      },
      "source": [
        "<a href=\"https://colab.research.google.com/github/Lavya-Thapar/Spam-detection/blob/main/Topic_Modelling(LDA).ipynb\" target=\"_parent\"><img src=\"https://colab.research.google.com/assets/colab-badge.svg\" alt=\"Open In Colab\"/></a>"
      ]
    },
    {
      "cell_type": "code",
      "source": [
        "!pip install gensim"
      ],
      "metadata": {
        "colab": {
          "base_uri": "https://localhost:8080/"
        },
        "id": "e-lcgNinI5nD",
        "outputId": "8bbc5baa-d1e8-4961-cb21-33595b1cabc0"
      },
      "execution_count": null,
      "outputs": [
        {
          "output_type": "stream",
          "name": "stdout",
          "text": [
            "Requirement already satisfied: gensim in /usr/local/lib/python3.10/dist-packages (4.3.2)\n",
            "Requirement already satisfied: numpy>=1.18.5 in /usr/local/lib/python3.10/dist-packages (from gensim) (1.25.2)\n",
            "Requirement already satisfied: scipy>=1.7.0 in /usr/local/lib/python3.10/dist-packages (from gensim) (1.11.4)\n",
            "Requirement already satisfied: smart-open>=1.8.1 in /usr/local/lib/python3.10/dist-packages (from gensim) (6.4.0)\n"
          ]
        }
      ]
    },
    {
      "cell_type": "code",
      "execution_count": null,
      "metadata": {
        "colab": {
          "base_uri": "https://localhost:8080/"
        },
        "id": "3S7lNbd3ApwE",
        "outputId": "205c2932-68c9-4537-ef21-400a9546d6b7"
      },
      "outputs": [
        {
          "output_type": "stream",
          "name": "stderr",
          "text": [
            "[nltk_data] Downloading package punkt to /root/nltk_data...\n",
            "[nltk_data]   Unzipping tokenizers/punkt.zip.\n",
            "[nltk_data] Downloading package stopwords to /root/nltk_data...\n",
            "[nltk_data]   Unzipping corpora/stopwords.zip.\n",
            "[nltk_data] Downloading package wordnet to /root/nltk_data...\n",
            "[nltk_data] Downloading package omw-1.4 to /root/nltk_data...\n",
            "[nltk_data] Downloading package averaged_perceptron_tagger to\n",
            "[nltk_data]     /root/nltk_data...\n",
            "[nltk_data]   Unzipping taggers/averaged_perceptron_tagger.zip.\n"
          ]
        },
        {
          "output_type": "stream",
          "name": "stdout",
          "text": [
            "                                             article  \\\n",
            "0  Engineering societies provide invaluable oppor...   \n",
            "1  Active participation in engineering societies ...   \n",
            "2  Data structures and algorithms (DSA) form the ...   \n",
            "3  In addition to technical expertise, soft skill...   \n",
            "4  Balancing academics and extracurricular activi...   \n",
            "\n",
            "                                               topic  \\\n",
            "0  The Role of Engineering Societies in Skill Dev...   \n",
            "1  Importance of Active Participation in Engineer...   \n",
            "2  Leveraging Data Structures and Algorithms (DSA...   \n",
            "3                             Developing Soft Skills   \n",
            "4  Strategies for Enhancing CGPA,Balancing Academ...   \n",
            "\n",
            "                                                tags  \n",
            "0  Engineering Societies, Skill Development, Netw...  \n",
            "1  Active Participation, Holistic Growth, Enginee...  \n",
            "2  Data Structures, Algorithms, Efficient Problem...  \n",
            "3                   Soft Skills, Development, Skills  \n",
            "4               Enhancing CGPA, Balancing, Academics  \n"
          ]
        }
      ],
      "source": [
        "import numpy as np\n",
        "import pandas as pd\n",
        "import nltk\n",
        "from nltk.tokenize import word_tokenize\n",
        "from nltk.tag import pos_tag\n",
        "from nltk.corpus import stopwords\n",
        "from nltk.stem.wordnet import WordNetLemmatizer\n",
        "import string\n",
        "from sklearn.feature_extraction.text import TfidfVectorizer, CountVectorizer\n",
        "from sklearn.decomposition import LatentDirichletAllocation\n",
        "import gensim\n",
        "from gensim.models.coherencemodel import CoherenceModel\n",
        "nltk.download('punkt')\n",
        "nltk.download('stopwords')\n",
        "nltk.download('wordnet')\n",
        "nltk.download('omw-1.4')\n",
        "nltk.download('averaged_perceptron_tagger')\n",
        "data = pd.read_csv(\"training_articles_csv_file.csv\", encoding = 'latin1')\n",
        "\n",
        "print(data.head())"
      ]
    },
    {
      "cell_type": "code",
      "source": [
        "def preprocess_text(text):\n",
        "    # Convert text to lowercase\n",
        "    text = text.lower()\n",
        "    # Remove punctuation\n",
        "    text = text.translate(str.maketrans('', '', string.punctuation))\n",
        "    # Tokenize text\n",
        "    tokens = nltk.word_tokenize(text)\n",
        "    # Remove stopwords\n",
        "    stop_words = set(stopwords.words(\"english\"))\n",
        "    tokens = [word for word in tokens if word not in stop_words]\n",
        "    # Lemmatize tokens\n",
        "    lemma = WordNetLemmatizer()\n",
        "    tokens = [lemma.lemmatize(word) for word in tokens]\n",
        "    # Join tokens to form preprocessed text\n",
        "    preprocessed_text = ' '.join(tokens)\n",
        "    return preprocessed_text\n",
        "\n",
        "data['article'] = data['article'].apply(preprocess_text)\n",
        "print(data['article'])"
      ],
      "metadata": {
        "id": "WSbXCb6YCNdP",
        "colab": {
          "base_uri": "https://localhost:8080/"
        },
        "outputId": "e0625f52-9ff1-4dc1-fd4c-8b421060ef0a"
      },
      "execution_count": null,
      "outputs": [
        {
          "output_type": "stream",
          "name": "stdout",
          "text": [
            "0     engineering society provide invaluable opportu...\n",
            "1     active participation engineering society cruci...\n",
            "2     data structure algorithm dsa form backbone com...\n",
            "3     addition technical expertise soft skill essent...\n",
            "4     balancing academic extracurricular activity es...\n",
            "5     effective interview preparation essential land...\n",
            "6     engineering graduate diverse career opportunit...\n",
            "7     artificial intelligence ai revolutionizing soc...\n",
            "8     ethic responsibility paramount development dep...\n",
            "9     ai machine learning offer vast career opportun...\n",
            "10    future work shaped automation ai technology ad...\n",
            "11    integrating technical nontechnical skill essen...\n",
            "12    communication skill indispensable engineering ...\n",
            "13    leadership development essential engineering p...\n",
            "14    building strong personal brand essential engin...\n",
            "15    design thinking increasingly integrated engine...\n",
            "16    open source contribution offer valuable opport...\n",
            "17    cybersecurity awareness essential engineering ...\n",
            "18    entrepreneurship offer exciting opportunity en...\n",
            "19    cloud computing big data analytics transformin...\n",
            "20    developing mobile application dynamic field dr...\n",
            "21    continuous learning essential professional rap...\n",
            "22    effective time management crucial engineering ...\n",
            "23    project management integral success engineerin...\n",
            "24    exploring green technology essential addressin...\n",
            "25    engineer forefront addressing global challenge...\n",
            "26    innovation renewable energy technology driving...\n",
            "27    environmental engineering sustainability offer...\n",
            "28    future transportation characterized smart mobi...\n",
            "29    building resilient infrastructure essential mi...\n",
            "30    prompt engineering crucial today fastpaced wor...\n",
            "31    social medium platform transforming engineerin...\n",
            "32    effective mentorship career guidance invaluabl...\n",
            "33    hackathons powerful platform fostering innovat...\n",
            "34    intellectual property right patent play crucia...\n",
            "35    engineer play vital role humanitarian aid glob...\n",
            "36    virtual reality vr augmented reality ar revolu...\n",
            "37    ethical consideration paramount biotechnology ...\n",
            "38    future education characterized blend tradition...\n",
            "39    mental health challenge prevalent engineering ...\n",
            "40    remote work digital nomadism offer engineer fl...\n",
            "41    engineering play pivotal role space exploratio...\n",
            "42    blockchain technology potential revolutionize ...\n",
            "43    crossdisciplinary collaboration essential tack...\n",
            "44    promoting stem science technology engineering ...\n",
            "45    quantum computing hold promise revolutionizing...\n",
            "46    promoting ethical ai development deployment cr...\n",
            "47    emerging technology artificial intelligence ge...\n",
            "48    convergence biology engineering driving innova...\n",
            "Name: article, dtype: object\n"
          ]
        }
      ]
    },
    {
      "cell_type": "code",
      "source": [
        "x_prev=data['article']\n",
        "vectorizer =TfidfVectorizer(max_df=0.95, min_df=2, ngram_range=(1, 2))\n",
        "x = vectorizer.fit_transform(data['article'].values)\n"
      ],
      "metadata": {
        "id": "WEJUgE_GCXtk"
      },
      "execution_count": null,
      "outputs": []
    },
    {
      "cell_type": "code",
      "source": [
        "# def compute_coherence_score(lda_model, texts, dictionary, coherence='c_v'):\n",
        "#     coherence_model = CoherenceModel(model=lda_model, texts=texts, dictionary=dictionary, coherence=coherence)\n",
        "#     coherence_score = coherence_model.get_coherence()\n",
        "#     return coherence_score"
      ],
      "metadata": {
        "id": "vmeSi1-vJTKW"
      },
      "execution_count": null,
      "outputs": []
    },
    {
      "cell_type": "code",
      "source": [
        "# def choosing_best_ncomponent(train_data):\n",
        "#   n_components_range = [5, 10, 15, 20, 25]\n",
        "\n",
        "#   best_n_components = None\n",
        "#   best_coherence_score = -1  # Initialize with a low value\n",
        "#   train_data=train_data.apply(preprocess_text)\n",
        "# # Iterate over each value of n_components\n",
        "#   for n_components in n_components_range:\n",
        "#       # Train LDA model\n",
        "#       lda = LatentDirichletAllocation(n_components=n_components, random_state=42)\n",
        "#       lda.fit(train_data)\n",
        "\n",
        "#       # Convert training data to a list of tokenized documents\n",
        "#       tokenized_texts = [doc.split() for doc in train_data]\n",
        "\n",
        "#       # Create a dictionary from tokenized documents\n",
        "#       dictionary = gensim.corpora.Dictionary(tokenized_texts)\n",
        "\n",
        "#       # Compute coherence score\n",
        "#       coherence = compute_coherence_score(lda, tokenized_texts, dictionary)\n",
        "#       print(f\"n_components={n_components}: Coherence Score={coherence}\")\n",
        "\n",
        "#       # Update best n_components if coherence score improves\n",
        "#       if coherence > best_coherence_score:\n",
        "#           best_coherence_score = coherence\n",
        "#           best_n_components = n_components\n",
        "\n",
        "#       # Print the best value of n_components\n",
        "#       print(f\"Best value of n_components: {best_n_components} (Coherence Score={best_coherence_score})\")\n",
        "#       return best_n_components"
      ],
      "metadata": {
        "id": "vgS-kxyCH5qK"
      },
      "execution_count": null,
      "outputs": []
    },
    {
      "cell_type": "code",
      "source": [
        "lda = LatentDirichletAllocation(n_components=48, learning_method='online', random_state=42)\n",
        "lda.fit(x)\n",
        "\n",
        "topic_modelling = lda.transform(x)\n",
        "\n",
        "topic_labels = np.argmax(topic_modelling, axis=1)\n",
        "data['topic_labels'] = topic_labels\n",
        "print(data)"
      ],
      "metadata": {
        "colab": {
          "base_uri": "https://localhost:8080/"
        },
        "id": "1I9u4SGvCfUB",
        "outputId": "0d4fe608-9b4c-43d8-f187-9d236820a6cc"
      },
      "execution_count": null,
      "outputs": [
        {
          "output_type": "stream",
          "name": "stdout",
          "text": [
            "                                              article  \\\n",
            "0   engineering society provide invaluable opportu...   \n",
            "1   active participation engineering society cruci...   \n",
            "2   data structure algorithm dsa form backbone com...   \n",
            "3   addition technical expertise soft skill essent...   \n",
            "4   balancing academic extracurricular activity es...   \n",
            "5   effective interview preparation essential land...   \n",
            "6   engineering graduate diverse career opportunit...   \n",
            "7   artificial intelligence ai revolutionizing soc...   \n",
            "8   ethic responsibility paramount development dep...   \n",
            "9   ai machine learning offer vast career opportun...   \n",
            "10  future work shaped automation ai technology ad...   \n",
            "11  integrating technical nontechnical skill essen...   \n",
            "12  communication skill indispensable engineering ...   \n",
            "13  leadership development essential engineering p...   \n",
            "14  building strong personal brand essential engin...   \n",
            "15  design thinking increasingly integrated engine...   \n",
            "16  open source contribution offer valuable opport...   \n",
            "17  cybersecurity awareness essential engineering ...   \n",
            "18  entrepreneurship offer exciting opportunity en...   \n",
            "19  cloud computing big data analytics transformin...   \n",
            "20  developing mobile application dynamic field dr...   \n",
            "21  continuous learning essential professional rap...   \n",
            "22  effective time management crucial engineering ...   \n",
            "23  project management integral success engineerin...   \n",
            "24  exploring green technology essential addressin...   \n",
            "25  engineer forefront addressing global challenge...   \n",
            "26  innovation renewable energy technology driving...   \n",
            "27  environmental engineering sustainability offer...   \n",
            "28  future transportation characterized smart mobi...   \n",
            "29  building resilient infrastructure essential mi...   \n",
            "30  prompt engineering crucial today fastpaced wor...   \n",
            "31  social medium platform transforming engineerin...   \n",
            "32  effective mentorship career guidance invaluabl...   \n",
            "33  hackathons powerful platform fostering innovat...   \n",
            "34  intellectual property right patent play crucia...   \n",
            "35  engineer play vital role humanitarian aid glob...   \n",
            "36  virtual reality vr augmented reality ar revolu...   \n",
            "37  ethical consideration paramount biotechnology ...   \n",
            "38  future education characterized blend tradition...   \n",
            "39  mental health challenge prevalent engineering ...   \n",
            "40  remote work digital nomadism offer engineer fl...   \n",
            "41  engineering play pivotal role space exploratio...   \n",
            "42  blockchain technology potential revolutionize ...   \n",
            "43  crossdisciplinary collaboration essential tack...   \n",
            "44  promoting stem science technology engineering ...   \n",
            "45  quantum computing hold promise revolutionizing...   \n",
            "46  promoting ethical ai development deployment cr...   \n",
            "47  emerging technology artificial intelligence ge...   \n",
            "48  convergence biology engineering driving innova...   \n",
            "\n",
            "                                                topic  \\\n",
            "0   The Role of Engineering Societies in Skill Dev...   \n",
            "1   Importance of Active Participation in Engineer...   \n",
            "2   Leveraging Data Structures and Algorithms (DSA...   \n",
            "3                              Developing Soft Skills   \n",
            "4   Strategies for Enhancing CGPA,Balancing Academ...   \n",
            "5   Interview Preparation Strategies for Landing Y...   \n",
            "6   Exploring Non-Technical Career Paths for Engin...   \n",
            "7   Understanding the Impact of Artificial Intelli...   \n",
            "8   Ethics and Responsibility in AI Development an...   \n",
            "9   Exploring Career Opportunities in AI and Machi...   \n",
            "10  The Future of Work,Adapting to Automation and ...   \n",
            "11  Integrating Technical and Non-Technical Skills...   \n",
            "12  Importance of Communication Skills for Enginee...   \n",
            "13             Leadership Development in Engineering:   \n",
            "14  Building a Strong Personal Brand,Leveraging So...   \n",
            "15  The Intersection of Design Thinking and Engine...   \n",
            "16  Harnessing the Power of Open Source Contributi...   \n",
            "17  Cybersecurity Awareness and Best Practices for...   \n",
            "18  Exploring Opportunities for Entrepreneurship i...   \n",
            "19  The Impact of Cloud Computing and Big Data Ana...   \n",
            "20  Developing Mobile Applications,Trends and Tech...   \n",
            "21  Importance of Continuous Learning in the Rapid...   \n",
            "22  Strategies for Effective Time Management and P...   \n",
            "23  Understanding the Basics of Project Management...   \n",
            "24  Exploring Green Technologies: Sustainable Solu...   \n",
            "25  The Role of Engineers in Addressing Global Cha...   \n",
            "26  Innovation in Renewable Energy Technologies: M...   \n",
            "27  Exploring Career Paths in Environmental Engine...   \n",
            "28  The Future of Transportation,Smart Mobility So...   \n",
            "29  Building Resilient Infrastructure,Engineering ...   \n",
            "30             Importance of Prompt Engineering Today   \n",
            "31  The Impact of Social Media on Engineering Educ...   \n",
            "32  Strategies for Effective Mentorship and Career...   \n",
            "33  Leveraging Hackathons for Innovation and Colla...   \n",
            "34  Understanding Intellectual Property Rights and...   \n",
            "35  The Role of Engineers in Humanitarian Aid and ...   \n",
            "36  Exploring Virtual Reality and Augmented Realit...   \n",
            "37  Ethical Considerations in Biotechnology and Ge...   \n",
            "38  The Future of Education,Blending Traditional L...   \n",
            "39  Addressing Mental Health Challenges in Enginee...   \n",
            "40  Exploring Opportunities for Remote Work and Di...   \n",
            "41  The Role of Engineering in Space Exploration a...   \n",
            "42  Understanding Blockchain Technology and its Po...   \n",
            "43  The Importance of Cross-Disciplinary Collabora...   \n",
            "44  Promoting STEM Education and Outreach Programs...   \n",
            "45  Exploring the Potential of Quantum Computing f...   \n",
            "46  Promoting Ethical AI Development and Deploymen...   \n",
            "47  The Impact of Emerging Technologies on Healthc...   \n",
            "48  The Convergence of Biology and Engineering,Inn...   \n",
            "\n",
            "                                                 tags  topic_labels  \n",
            "0   Engineering Societies, Skill Development, Netw...             7  \n",
            "1   Active Participation, Holistic Growth, Enginee...             7  \n",
            "2   Data Structures, Algorithms, Efficient Problem...            36  \n",
            "3                    Soft Skills, Development, Skills            17  \n",
            "4                Enhancing CGPA, Balancing, Academics            17  \n",
            "5        Interview Preparation, Strategies, Dream Job            20  \n",
            "6   Non-Technical Career Paths, Exploring, Enginee...            21  \n",
            "7            Artificial Intelligence, Impact, Society            34  \n",
            "8              Ethics, Responsibility, AI Development            44  \n",
            "9          Career Opportunities, AI, Machine Learning             7  \n",
            "10               Future of Work, Adapting, Automation            12  \n",
            "11       Integrating Skills, Technical, Non-Technical            14  \n",
            "12  Communication Skills, Importance, Engineering ...             7  \n",
            "13    Leadership Development, Engineering, Leadership             7  \n",
            "14        Personal Brand, Social Media, Career Growth            28  \n",
            "15  Design Thinking, Intersection, Engineering Inn...            36  \n",
            "16  Open Source Contributions, Power, Skill Enhanc...            32  \n",
            "17  Cybersecurity Awareness, Best Practices, Engin...             0  \n",
            "18     Opportunities, Entrepreneurship, Tech Industry            15  \n",
            "19        Impact, Cloud Computing, Big Data Analytics            32  \n",
            "20          Mobile Applications, Trends, Technologies             9  \n",
            "21     Continuous Learning, Importance, Tech Industry             7  \n",
            "22          Time Management, Productivity, Strategies            17  \n",
            "23  Basics of Project Management, Engineering Proj...             3  \n",
            "24  Green Technologies, Sustainable Solutions, Env...            44  \n",
            "25     Engineers' Role, Addressing, Global Challenges            44  \n",
            "26  Innovation, Renewable Energy Technologies, Gre...            12  \n",
            "27  Career Paths, Environmental Engineering, Susta...            44  \n",
            "28  Future of Transportation, Smart Mobility Solut...            21  \n",
            "29  Resilient Infrastructure, Disaster Management,...            32  \n",
            "30  Prompt Engineering, Importance of Prompt Engin...             7  \n",
            "31        Impact, Social Media, Engineering Education            28  \n",
            "32            Strategies, Mentorship, Career Guidance             6  \n",
            "33   Leveraging Hackathons, Innovation, Collaboration            36  \n",
            "34  Intellectual Property Rights, Patents, Underst...            28  \n",
            "35  Engineers' Role, Humanitarian Aid, Global Deve...             7  \n",
            "36   Virtual Reality, Augmented Reality, Applications            32  \n",
            "37  Ethical Considerations, Biotechnology, Genetic...            38  \n",
            "38    Future of Education, Blending, Online Platforms            41  \n",
            "39  Mental Health Challenges, Self-Care Strategies...            14  \n",
            "40  Remote Work Opportunities, Digital Nomadism, E...            12  \n",
            "41  Engineering Role, Space Exploration, Colonization            36  \n",
            "42  Blockchain Technology, Disruptive Impact, Unde...             4  \n",
            "43  Cross-Disciplinary Collaboration, Importance, ...            36  \n",
            "44  STEM Education, Outreach Programs, Underprivil...             0  \n",
            "45  Quantum Computing, Potential, Revolutionary Br...            11  \n",
            "46    Ethical AI Development, Deployment, Engineering            44  \n",
            "47          Impact, Emerging Technologies, Healthcare            41  \n",
            "48  Convergence, Biology and Engineering, Innovations             5  \n"
          ]
        }
      ]
    },
    {
      "cell_type": "code",
      "source": [
        "def extract_keywords(sentence):\n",
        "    # Tokenize the sentence into words\n",
        "    words = word_tokenize(sentence)\n",
        "\n",
        "    # Perform part-of-speech tagging to identify nouns and adjectives\n",
        "    tagged_words = pos_tag(words)\n",
        "\n",
        "    # Extract nouns and adjectives as keywords\n",
        "    keywords = [word for word, tag in tagged_words if tag.startswith('NN') or tag.startswith('JJ')]\n",
        "\n",
        "    return keywords"
      ],
      "metadata": {
        "id": "eoHkNF96d5ag"
      },
      "execution_count": null,
      "outputs": []
    },
    {
      "cell_type": "code",
      "source": [
        "new_article_text = \"Take part in as many hackathons as possible\"\n",
        "\n",
        "# Preprocess the text\n",
        "preprocessed_new_article = preprocess_text(new_article_text)\n",
        "\n",
        "# Transform the preprocessed text into vector space\n",
        "tfidf_new_article = vectorizer.transform([preprocessed_new_article])\n",
        "\n",
        "# Transform the vectorized text into topic space\n",
        "topic_modelling_new_article = lda.transform(tfidf_new_article)\n",
        "\n",
        "# Find the dominant topic for the new article\n",
        "dominant_topic_index = np.argmax(topic_modelling_new_article)\n",
        "dominant_topic = dominant_topic_index  # Topic indices are zero-based\n",
        "filtered_rows = data[data['topic_labels'] == dominant_topic]\n",
        "\n",
        "# Printing the value of the first attribute from the filtered rows\n",
        "if not filtered_rows.empty:\n",
        "    print(\"Suggested tags for your article are:\", filtered_rows['topic'])\n",
        "    for sentence in filtered_rows['topic']:\n",
        "      print(extract_keywords(sentence))\n",
        "else:\n",
        "    print(\"No matching rows found.\")\n",
        "# print(\"Dominant Topic for the New Article:\", dominant_topic)"
      ],
      "metadata": {
        "colab": {
          "base_uri": "https://localhost:8080/"
        },
        "id": "PUDA8JRwGnAw",
        "outputId": "14413b44-2374-440c-d943-91782ee60831"
      },
      "execution_count": null,
      "outputs": [
        {
          "output_type": "stream",
          "name": "stdout",
          "text": [
            "Suggested tags for your article are: 2     Leveraging Data Structures and Algorithms (DSA...\n",
            "15    The Intersection of Design Thinking and Engine...\n",
            "33    Leveraging Hackathons for Innovation and Colla...\n",
            "41    The Role of Engineering in Space Exploration a...\n",
            "43    The Importance of Cross-Disciplinary Collabora...\n",
            "Name: topic, dtype: object\n",
            "['Data', 'Structures', 'Algorithms', 'DSA', 'Efficient', 'Problem']\n",
            "['Intersection', 'Design', 'Thinking', 'Engineering', 'Innovation']\n",
            "['Hackathons', 'Innovation', 'Collaboration', 'Tech', 'Communities']\n",
            "['Role', 'Engineering', 'Space', 'Exploration', 'Colonization']\n",
            "['Importance', 'Cross-Disciplinary', 'Collaboration', 'Complex', 'Problems']\n"
          ]
        }
      ]
    },
    {
      "cell_type": "code",
      "source": [],
      "metadata": {
        "id": "iQ5mOsl6eyN3"
      },
      "execution_count": null,
      "outputs": []
    }
  ]
}